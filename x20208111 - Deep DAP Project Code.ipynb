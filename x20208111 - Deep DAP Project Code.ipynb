{
 "cells": [
  {
   "cell_type": "code",
   "execution_count": 3,
   "metadata": {},
   "outputs": [
    {
     "name": "stdout",
     "output_type": "stream",
     "text": [
      "Collecting pymongo\n",
      "  Downloading pymongo-4.0.1-cp38-cp38-win_amd64.whl (354 kB)\n",
      "Installing collected packages: pymongo\n",
      "Successfully installed pymongo-4.0.1\n",
      "Note: you may need to restart the kernel to use updated packages.\n"
     ]
    }
   ],
   "source": [
    "pip install pymongo"
   ]
  },
  {
   "cell_type": "code",
   "execution_count": 2,
   "metadata": {},
   "outputs": [
    {
     "name": "stdout",
     "output_type": "stream",
     "text": [
      "<pymongo.results.InsertManyResult object at 0x000002091C993180>\n"
     ]
    }
   ],
   "source": [
    "import json\n",
    "import pymongo\n",
    "import numpy as np\n",
    "import matplotlib.pyplot as plt\n",
    "%matplotlib inline\n",
    "import re\n",
    "import pandas as pd\n",
    "from bson import json_util\n",
    "import seaborn as sns\n",
    "\n",
    "#Read csv and convert in json\n",
    "\n",
    "data_csv = pd.read_csv (\"C:/Users/DEEP/Downloads/deep dap/Food_Inspections_New2_Converted.csv\")\n",
    "data_csv.to_json(\"C:/Users/DEEP/Downloads/deep dap/Food_Inspections_New2.json\")\n",
    "df=pd.read_json(\"C:/Users/DEEP/Downloads/deep dap/Food_Inspections_New2.json\")\n",
    "\n",
    "data = df.to_dict('records')\n",
    "\n",
    "#connection to MongoDB\n",
    "myclient=pymongo.MongoClient(\"mongodb://localhost:27017/\")\n",
    "mydb=myclient[\"food_inspection\"]\n",
    "mycol = mydb.Food_Inspection\n",
    "\n",
    "x=mycol.insert_many(data)\n",
    "print(x)"
   ]
  },
  {
   "cell_type": "code",
   "execution_count": 3,
   "metadata": {},
   "outputs": [
    {
     "data": {
      "text/html": [
       "<div>\n",
       "<style scoped>\n",
       "    .dataframe tbody tr th:only-of-type {\n",
       "        vertical-align: middle;\n",
       "    }\n",
       "\n",
       "    .dataframe tbody tr th {\n",
       "        vertical-align: top;\n",
       "    }\n",
       "\n",
       "    .dataframe thead th {\n",
       "        text-align: right;\n",
       "    }\n",
       "</style>\n",
       "<table border=\"1\" class=\"dataframe\">\n",
       "  <thead>\n",
       "    <tr style=\"text-align: right;\">\n",
       "      <th></th>\n",
       "      <th>Inspection ID</th>\n",
       "      <th>DBA Name</th>\n",
       "      <th>AKA Name</th>\n",
       "      <th>License #</th>\n",
       "      <th>Facility Type</th>\n",
       "      <th>Risk</th>\n",
       "      <th>Address</th>\n",
       "      <th>City</th>\n",
       "      <th>State</th>\n",
       "      <th>Zip</th>\n",
       "      <th>Inspection Date</th>\n",
       "      <th>Inspection Type</th>\n",
       "      <th>Results</th>\n",
       "    </tr>\n",
       "  </thead>\n",
       "  <tbody>\n",
       "    <tr>\n",
       "      <th>0</th>\n",
       "      <td>2545939</td>\n",
       "      <td>MCDONALDS</td>\n",
       "      <td>MCDONALDS</td>\n",
       "      <td>2349545.0</td>\n",
       "      <td>Restaurant</td>\n",
       "      <td>Risk 2 (Medium)</td>\n",
       "      <td>3241 W PETERSON AVE</td>\n",
       "      <td>CHICAGO</td>\n",
       "      <td>IL</td>\n",
       "      <td>60659.0</td>\n",
       "      <td>2021</td>\n",
       "      <td>Canvass Re-Inspection</td>\n",
       "      <td>Pass</td>\n",
       "    </tr>\n",
       "    <tr>\n",
       "      <th>1</th>\n",
       "      <td>2545928</td>\n",
       "      <td>TACONAZO EL ORIGINAL #1</td>\n",
       "      <td>TACONAZO EL ORIGINAL #1</td>\n",
       "      <td>2657927.0</td>\n",
       "      <td>Restaurant</td>\n",
       "      <td>Risk 1 (High)</td>\n",
       "      <td>4124 W NORTH AVE</td>\n",
       "      <td>CHICAGO</td>\n",
       "      <td>IL</td>\n",
       "      <td>60639.0</td>\n",
       "      <td>2021</td>\n",
       "      <td>Canvass Re-Inspection</td>\n",
       "      <td>Pass</td>\n",
       "    </tr>\n",
       "    <tr>\n",
       "      <th>2</th>\n",
       "      <td>2545896</td>\n",
       "      <td>7-ELEVEN #24606</td>\n",
       "      <td>7-ELEVEN #24606</td>\n",
       "      <td>12892.0</td>\n",
       "      <td>Grocery Store</td>\n",
       "      <td>Risk 2 (Medium)</td>\n",
       "      <td>2600 N LINCOLN AVE</td>\n",
       "      <td>CHICAGO</td>\n",
       "      <td>IL</td>\n",
       "      <td>60614.0</td>\n",
       "      <td>2021</td>\n",
       "      <td>Canvass</td>\n",
       "      <td>Out of Business</td>\n",
       "    </tr>\n",
       "    <tr>\n",
       "      <th>3</th>\n",
       "      <td>2545872</td>\n",
       "      <td>THE WESTIN MICHIGAN  AVENUE</td>\n",
       "      <td>909 NORTH</td>\n",
       "      <td>2762706.0</td>\n",
       "      <td>Restaurant</td>\n",
       "      <td>Risk 1 (High)</td>\n",
       "      <td>909 N MICHIGAN AVE</td>\n",
       "      <td>CHICAGO</td>\n",
       "      <td>IL</td>\n",
       "      <td>60611.0</td>\n",
       "      <td>2021</td>\n",
       "      <td>License</td>\n",
       "      <td>Pass</td>\n",
       "    </tr>\n",
       "    <tr>\n",
       "      <th>4</th>\n",
       "      <td>2545870</td>\n",
       "      <td>SUPER TAQUERIA EL TACONAZO EL TIO</td>\n",
       "      <td>SUPER TAQUERIA EL TACONAZO EL TIO</td>\n",
       "      <td>2458442.0</td>\n",
       "      <td>Restaurant</td>\n",
       "      <td>Risk 1 (High)</td>\n",
       "      <td>3529 W FULLERTON AVE</td>\n",
       "      <td>CHICAGO</td>\n",
       "      <td>IL</td>\n",
       "      <td>60647.0</td>\n",
       "      <td>2021</td>\n",
       "      <td>Complaint</td>\n",
       "      <td>Pass</td>\n",
       "    </tr>\n",
       "  </tbody>\n",
       "</table>\n",
       "</div>"
      ],
      "text/plain": [
       "   Inspection ID                           DBA Name  \\\n",
       "0        2545939                          MCDONALDS   \n",
       "1        2545928            TACONAZO EL ORIGINAL #1   \n",
       "2        2545896                    7-ELEVEN #24606   \n",
       "3        2545872        THE WESTIN MICHIGAN  AVENUE   \n",
       "4        2545870  SUPER TAQUERIA EL TACONAZO EL TIO   \n",
       "\n",
       "                            AKA Name  License #  Facility Type  \\\n",
       "0                          MCDONALDS  2349545.0     Restaurant   \n",
       "1            TACONAZO EL ORIGINAL #1  2657927.0     Restaurant   \n",
       "2                    7-ELEVEN #24606    12892.0  Grocery Store   \n",
       "3                          909 NORTH  2762706.0     Restaurant   \n",
       "4  SUPER TAQUERIA EL TACONAZO EL TIO  2458442.0     Restaurant   \n",
       "\n",
       "              Risk                Address     City State      Zip  \\\n",
       "0  Risk 2 (Medium)   3241 W PETERSON AVE   CHICAGO    IL  60659.0   \n",
       "1    Risk 1 (High)      4124 W NORTH AVE   CHICAGO    IL  60639.0   \n",
       "2  Risk 2 (Medium)    2600 N LINCOLN AVE   CHICAGO    IL  60614.0   \n",
       "3    Risk 1 (High)    909 N MICHIGAN AVE   CHICAGO    IL  60611.0   \n",
       "4    Risk 1 (High)  3529 W FULLERTON AVE   CHICAGO    IL  60647.0   \n",
       "\n",
       "   Inspection Date        Inspection Type          Results  \n",
       "0             2021  Canvass Re-Inspection             Pass  \n",
       "1             2021  Canvass Re-Inspection             Pass  \n",
       "2             2021                Canvass  Out of Business  \n",
       "3             2021                License             Pass  \n",
       "4             2021              Complaint             Pass  "
      ]
     },
     "execution_count": 3,
     "metadata": {},
     "output_type": "execute_result"
    }
   ],
   "source": [
    "df.head()"
   ]
  },
  {
   "cell_type": "code",
   "execution_count": 4,
   "metadata": {},
   "outputs": [
    {
     "name": "stdout",
     "output_type": "stream",
     "text": [
      "<class 'pandas.core.frame.DataFrame'>\n",
      "Int64Index: 6927 entries, 0 to 6926\n",
      "Data columns (total 13 columns):\n",
      " #   Column           Non-Null Count  Dtype  \n",
      "---  ------           --------------  -----  \n",
      " 0   Inspection ID    6927 non-null   int64  \n",
      " 1   DBA Name         6927 non-null   object \n",
      " 2   AKA Name         6885 non-null   object \n",
      " 3   License #        6926 non-null   float64\n",
      " 4   Facility Type    6927 non-null   object \n",
      " 5   Risk             6927 non-null   object \n",
      " 6   Address          6927 non-null   object \n",
      " 7   City             6920 non-null   object \n",
      " 8   State            6923 non-null   object \n",
      " 9   Zip              6926 non-null   float64\n",
      " 10  Inspection Date  6927 non-null   int64  \n",
      " 11  Inspection Type  6927 non-null   object \n",
      " 12  Results          6927 non-null   object \n",
      "dtypes: float64(2), int64(2), object(9)\n",
      "memory usage: 757.6+ KB\n"
     ]
    }
   ],
   "source": [
    "df.info()\n"
   ]
  },
  {
   "cell_type": "code",
   "execution_count": 5,
   "metadata": {},
   "outputs": [],
   "source": [
    "# Replacing the spaces of columns names with an underscore and\n",
    "df.columns =[x.lower().replace(' ','_') for x in df.columns]"
   ]
  },
  {
   "cell_type": "code",
   "execution_count": 6,
   "metadata": {},
   "outputs": [
    {
     "data": {
      "text/plain": [
       "Index(['inspection_id', 'dba_name', 'aka_name', 'license_#', 'facility_type',\n",
       "       'risk', 'address', 'city', 'state', 'zip', 'inspection_date',\n",
       "       'inspection_type', 'results'],\n",
       "      dtype='object')"
      ]
     },
     "execution_count": 6,
     "metadata": {},
     "output_type": "execute_result"
    }
   ],
   "source": [
    "df.columns"
   ]
  },
  {
   "cell_type": "code",
   "execution_count": 7,
   "metadata": {},
   "outputs": [
    {
     "data": {
      "text/plain": [
       "(6927, 13)"
      ]
     },
     "execution_count": 7,
     "metadata": {},
     "output_type": "execute_result"
    }
   ],
   "source": [
    "#Checking for the number of rows and columns in the dataset\n",
    "df.shape"
   ]
  },
  {
   "cell_type": "code",
   "execution_count": 8,
   "metadata": {},
   "outputs": [
    {
     "data": {
      "text/plain": [
       "inspection_id       0\n",
       "dba_name            0\n",
       "aka_name           42\n",
       "license_#           1\n",
       "facility_type       0\n",
       "risk                0\n",
       "address             0\n",
       "city                7\n",
       "state               4\n",
       "zip                 1\n",
       "inspection_date     0\n",
       "inspection_type     0\n",
       "results             0\n",
       "dtype: int64"
      ]
     },
     "execution_count": 8,
     "metadata": {},
     "output_type": "execute_result"
    }
   ],
   "source": [
    "df.isnull().sum()"
   ]
  },
  {
   "cell_type": "code",
   "execution_count": 11,
   "metadata": {},
   "outputs": [
    {
     "data": {
      "text/plain": [
       "(6927, 13)"
      ]
     },
     "execution_count": 11,
     "metadata": {},
     "output_type": "execute_result"
    }
   ],
   "source": [
    "df.shape"
   ]
  },
  {
   "cell_type": "code",
   "execution_count": 12,
   "metadata": {},
   "outputs": [],
   "source": [
    "df.dropna(axis=0,inplace=True)"
   ]
  },
  {
   "cell_type": "code",
   "execution_count": 13,
   "metadata": {},
   "outputs": [
    {
     "data": {
      "text/plain": [
       "(6876, 13)"
      ]
     },
     "execution_count": 13,
     "metadata": {},
     "output_type": "execute_result"
    }
   ],
   "source": [
    "df.shape"
   ]
  },
  {
   "cell_type": "code",
   "execution_count": 14,
   "metadata": {},
   "outputs": [
    {
     "data": {
      "text/plain": [
       "inspection_id      0\n",
       "dba_name           0\n",
       "aka_name           0\n",
       "license_#          0\n",
       "facility_type      0\n",
       "risk               0\n",
       "address            0\n",
       "city               0\n",
       "state              0\n",
       "zip                0\n",
       "inspection_date    0\n",
       "inspection_type    0\n",
       "results            0\n",
       "dtype: int64"
      ]
     },
     "execution_count": 14,
     "metadata": {},
     "output_type": "execute_result"
    }
   ],
   "source": [
    "df.isnull().sum()"
   ]
  },
  {
   "cell_type": "code",
   "execution_count": 15,
   "metadata": {},
   "outputs": [
    {
     "data": {
      "text/plain": [
       "Pass                    2829\n",
       "Out of Business         1281\n",
       "No Entry                 859\n",
       "Pass w/ Conditions       822\n",
       "Fail                     735\n",
       "Not Ready                348\n",
       "Business Not Located       2\n",
       "Name: results, dtype: int64"
      ]
     },
     "execution_count": 15,
     "metadata": {},
     "output_type": "execute_result"
    }
   ],
   "source": [
    "df['results'].value_counts()"
   ]
  },
  {
   "cell_type": "code",
   "execution_count": 16,
   "metadata": {},
   "outputs": [],
   "source": [
    "df['results'] = df['results'].map(lambda x: 1 if x == 'Pass' or x == 'Pass w/ Conditions' else 0)"
   ]
  },
  {
   "cell_type": "code",
   "execution_count": 17,
   "metadata": {},
   "outputs": [
    {
     "data": {
      "text/plain": [
       "1    3651\n",
       "0    3225\n",
       "Name: results, dtype: int64"
      ]
     },
     "execution_count": 17,
     "metadata": {},
     "output_type": "execute_result"
    }
   ],
   "source": [
    "df['results'].value_counts()"
   ]
  },
  {
   "cell_type": "code",
   "execution_count": 18,
   "metadata": {},
   "outputs": [
    {
     "data": {
      "text/plain": [
       "<AxesSubplot:xlabel='results', ylabel='count'>"
      ]
     },
     "execution_count": 18,
     "metadata": {},
     "output_type": "execute_result"
    },
    {
     "data": {
      "image/png": "[encoded data removed]",
      "text/plain": [
       "<Figure size 432x288 with 1 Axes>"
      ]
     },
     "metadata": {
      "needs_background": "light"
     },
     "output_type": "display_data"
    }
   ],
   "source": [
    "sns.countplot(x='results',data=df, palette='hls')"
   ]
  },
  {
   "cell_type": "code",
   "execution_count": 19,
   "metadata": {},
   "outputs": [
    {
     "data": {
      "text/plain": [
       "Restaurant                      4768\n",
       "Grocery Store                    778\n",
       "School                           396\n",
       "Children's Services Facility     221\n",
       "Bakery                            96\n",
       "                                ... \n",
       "PALETERIA                          1\n",
       "SUPPORTIVE LIVING                  1\n",
       "EVENT SPACE                        1\n",
       "Private School                     1\n",
       "GROCERY STORE/GAS STATION          1\n",
       "Name: facility_type, Length: 115, dtype: int64"
      ]
     },
     "execution_count": 19,
     "metadata": {},
     "output_type": "execute_result"
    }
   ],
   "source": [
    "# Checking the values for different facilities\n",
    "df['facility_type'].value_counts()"
   ]
  },
  {
   "cell_type": "code",
   "execution_count": 20,
   "metadata": {},
   "outputs": [],
   "source": [
    "df['facility_type'] = df['facility_type'].map(lambda x: 1 if x == 'Restaurant' else 0)"
   ]
  },
  {
   "cell_type": "code",
   "execution_count": 21,
   "metadata": {},
   "outputs": [
    {
     "data": {
      "text/plain": [
       "1    4768\n",
       "0    2108\n",
       "Name: facility_type, dtype: int64"
      ]
     },
     "execution_count": 21,
     "metadata": {},
     "output_type": "execute_result"
    }
   ],
   "source": [
    "df['facility_type'].value_counts()"
   ]
  },
  {
   "cell_type": "code",
   "execution_count": 22,
   "metadata": {},
   "outputs": [
    {
     "data": {
      "text/plain": [
       "<AxesSubplot:xlabel='facility_type', ylabel='count'>"
      ]
     },
     "execution_count": 22,
     "metadata": {},
     "output_type": "execute_result"
    },
    {
     "data": {
      "image/png": "[encoded data removed]",
      "text/plain": [
       "<Figure size 432x288 with 1 Axes>"
      ]
     },
     "metadata": {
      "needs_background": "light"
     },
     "output_type": "display_data"
    }
   ],
   "source": [
    "# Number of food inspections by facility type\n",
    "sns.countplot(x='facility_type',data=df, palette='hls')"
   ]
  },
  {
   "cell_type": "code",
   "execution_count": 23,
   "metadata": {},
   "outputs": [
    {
     "data": {
      "text/plain": [
       "Canvass                                   3540\n",
       "License                                   1165\n",
       "Canvass Re-Inspection                      749\n",
       "Complaint                                  483\n",
       "License Re-Inspection                      302\n",
       "Non-Inspection                             253\n",
       "Complaint Re-Inspection                    214\n",
       "Short Form Complaint                       137\n",
       "Recent Inspection                           16\n",
       "Suspected Food Poisoning                    10\n",
       "License-Task Force                           2\n",
       "Task Force Liquor 1475                       1\n",
       "Suspected Food Poisoning Re-inspection       1\n",
       "RECALL INSPECTION                            1\n",
       "Consultation                                 1\n",
       "Tag Removal                                  1\n",
       "Name: inspection_type, dtype: int64"
      ]
     },
     "execution_count": 23,
     "metadata": {},
     "output_type": "execute_result"
    }
   ],
   "source": [
    "#Inspection types\n",
    "df['inspection_type'].value_counts()"
   ]
  },
  {
   "cell_type": "code",
   "execution_count": 24,
   "metadata": {},
   "outputs": [
    {
     "data": {
      "text/plain": [
       "2019    2887\n",
       "2020    2028\n",
       "2021    1876\n",
       "2018      57\n",
       "2010       7\n",
       "1998       1\n",
       "2011       1\n",
       "2007       1\n",
       "2003       1\n",
       "1999       1\n",
       "1995       1\n",
       "1991       1\n",
       "1987       1\n",
       "2006       1\n",
       "1988       1\n",
       "1992       1\n",
       "2009       1\n",
       "2005       1\n",
       "1997       1\n",
       "1993       1\n",
       "1989       1\n",
       "2012       1\n",
       "2004       1\n",
       "2000       1\n",
       "1996       1\n",
       "1990       1\n",
       "Name: inspection_date, dtype: int64"
      ]
     },
     "execution_count": 24,
     "metadata": {},
     "output_type": "execute_result"
    }
   ],
   "source": [
    "# Number of food inspection by inspection date\n",
    "df['inspection_date'].value_counts()"
   ]
  },
  {
   "cell_type": "code",
   "execution_count": 25,
   "metadata": {},
   "outputs": [
    {
     "data": {
      "text/plain": [
       "<AxesSubplot:xlabel='risk', ylabel='count'>"
      ]
     },
     "execution_count": 25,
     "metadata": {},
     "output_type": "execute_result"
    },
    {
     "data": {
      "image/png": "[encoded data removed]",
      "text/plain": [
       "<Figure size 432x288 with 1 Axes>"
      ]
     },
     "metadata": {
      "needs_background": "light"
     },
     "output_type": "display_data"
    }
   ],
   "source": [
    "# Number of food inspections by risk\n",
    "sns.countplot(x='risk',data = df, palette ='hls')"
   ]
  },
  {
   "cell_type": "code",
   "execution_count": 26,
   "metadata": {},
   "outputs": [
    {
     "data": {
      "text/plain": [
       "60647.0    275\n",
       "60614.0    264\n",
       "60622.0    253\n",
       "60657.0    245\n",
       "60618.0    241\n",
       "          ... \n",
       "60438.0      1\n",
       "60455.0      1\n",
       "60126.0      1\n",
       "60193.0      1\n",
       "90067.0      1\n",
       "Name: zip, Length: 64, dtype: int64"
      ]
     },
     "execution_count": 26,
     "metadata": {},
     "output_type": "execute_result"
    }
   ],
   "source": [
    "df['zip'].value_counts()"
   ]
  },
  {
   "cell_type": "code",
   "execution_count": 27,
   "metadata": {},
   "outputs": [
    {
     "data": {
      "text/plain": [
       "<AxesSubplot:xlabel='zip', ylabel='count'>"
      ]
     },
     "execution_count": 27,
     "metadata": {},
     "output_type": "execute_result"
    },
    {
     "data": {
      "image/png": "[encoded data removed]",
      "text/plain": [
       "<Figure size 432x288 with 1 Axes>"
      ]
     },
     "metadata": {
      "needs_background": "light"
     },
     "output_type": "display_data"
    }
   ],
   "source": [
    "# Number of food inspections by zip\n",
    "sns.countplot(x='zip',data = df, palette = 'hls')"
   ]
  },
  {
   "cell_type": "code",
   "execution_count": 28,
   "metadata": {},
   "outputs": [
    {
     "data": {
      "text/plain": [
       "<AxesSubplot:xlabel='inspection_type', ylabel='count'>"
      ]
     },
     "execution_count": 28,
     "metadata": {},
     "output_type": "execute_result"
    },
    {
     "data": {
      "image/png": "[encoded data removed]",
      "text/plain": [
       "<Figure size 432x288 with 1 Axes>"
      ]
     },
     "metadata": {
      "needs_background": "light"
     },
     "output_type": "display_data"
    }
   ],
   "source": [
    "# Number of food inspections by inspection type\n",
    "sns.countplot(x='inspection_type',data = df,palette = 'hls')"
   ]
  },
  {
   "cell_type": "code",
   "execution_count": 29,
   "metadata": {},
   "outputs": [
    {
     "data": {
      "text/plain": [
       "Risk 1 (High)      4979\n",
       "Risk 2 (Medium)    1172\n",
       "Risk 3 (Low)        720\n",
       "All                   5\n",
       "Name: risk, dtype: int64"
      ]
     },
     "execution_count": 29,
     "metadata": {},
     "output_type": "execute_result"
    }
   ],
   "source": [
    "df['risk'].value_counts()"
   ]
  },
  {
   "cell_type": "code",
   "execution_count": 30,
   "metadata": {},
   "outputs": [
    {
     "data": {
      "text/plain": [
       "inspection_id         int64\n",
       "dba_name             object\n",
       "aka_name             object\n",
       "license_#           float64\n",
       "facility_type         int64\n",
       "risk               category\n",
       "address              object\n",
       "city                 object\n",
       "state                object\n",
       "zip                 float64\n",
       "inspection_date       int64\n",
       "inspection_type      object\n",
       "results               int64\n",
       "dtype: object"
      ]
     },
     "execution_count": 30,
     "metadata": {},
     "output_type": "execute_result"
    }
   ],
   "source": [
    "df[\"risk\"] = df[\"risk\"].astype('category')\n",
    "df.dtypes"
   ]
  },
  {
   "cell_type": "code",
   "execution_count": 31,
   "metadata": {},
   "outputs": [
    {
     "data": {
      "text/html": [
       "<div>\n",
       "<style scoped>\n",
       "    .dataframe tbody tr th:only-of-type {\n",
       "        vertical-align: middle;\n",
       "    }\n",
       "\n",
       "    .dataframe tbody tr th {\n",
       "        vertical-align: top;\n",
       "    }\n",
       "\n",
       "    .dataframe thead th {\n",
       "        text-align: right;\n",
       "    }\n",
       "</style>\n",
       "<table border=\"1\" class=\"dataframe\">\n",
       "  <thead>\n",
       "    <tr style=\"text-align: right;\">\n",
       "      <th></th>\n",
       "      <th>inspection_id</th>\n",
       "      <th>dba_name</th>\n",
       "      <th>aka_name</th>\n",
       "      <th>license_#</th>\n",
       "      <th>facility_type</th>\n",
       "      <th>risk</th>\n",
       "      <th>address</th>\n",
       "      <th>city</th>\n",
       "      <th>state</th>\n",
       "      <th>zip</th>\n",
       "      <th>inspection_date</th>\n",
       "      <th>inspection_type</th>\n",
       "      <th>results</th>\n",
       "      <th>risk_cat</th>\n",
       "    </tr>\n",
       "  </thead>\n",
       "  <tbody>\n",
       "    <tr>\n",
       "      <th>0</th>\n",
       "      <td>2545939</td>\n",
       "      <td>MCDONALDS</td>\n",
       "      <td>MCDONALDS</td>\n",
       "      <td>2349545.0</td>\n",
       "      <td>1</td>\n",
       "      <td>Risk 2 (Medium)</td>\n",
       "      <td>3241 W PETERSON AVE</td>\n",
       "      <td>CHICAGO</td>\n",
       "      <td>IL</td>\n",
       "      <td>60659.0</td>\n",
       "      <td>2021</td>\n",
       "      <td>Canvass Re-Inspection</td>\n",
       "      <td>1</td>\n",
       "      <td>2</td>\n",
       "    </tr>\n",
       "    <tr>\n",
       "      <th>1</th>\n",
       "      <td>2545928</td>\n",
       "      <td>TACONAZO EL ORIGINAL #1</td>\n",
       "      <td>TACONAZO EL ORIGINAL #1</td>\n",
       "      <td>2657927.0</td>\n",
       "      <td>1</td>\n",
       "      <td>Risk 1 (High)</td>\n",
       "      <td>4124 W NORTH AVE</td>\n",
       "      <td>CHICAGO</td>\n",
       "      <td>IL</td>\n",
       "      <td>60639.0</td>\n",
       "      <td>2021</td>\n",
       "      <td>Canvass Re-Inspection</td>\n",
       "      <td>1</td>\n",
       "      <td>1</td>\n",
       "    </tr>\n",
       "    <tr>\n",
       "      <th>2</th>\n",
       "      <td>2545896</td>\n",
       "      <td>7-ELEVEN #24606</td>\n",
       "      <td>7-ELEVEN #24606</td>\n",
       "      <td>12892.0</td>\n",
       "      <td>0</td>\n",
       "      <td>Risk 2 (Medium)</td>\n",
       "      <td>2600 N LINCOLN AVE</td>\n",
       "      <td>CHICAGO</td>\n",
       "      <td>IL</td>\n",
       "      <td>60614.0</td>\n",
       "      <td>2021</td>\n",
       "      <td>Canvass</td>\n",
       "      <td>0</td>\n",
       "      <td>2</td>\n",
       "    </tr>\n",
       "    <tr>\n",
       "      <th>3</th>\n",
       "      <td>2545872</td>\n",
       "      <td>THE WESTIN MICHIGAN  AVENUE</td>\n",
       "      <td>909 NORTH</td>\n",
       "      <td>2762706.0</td>\n",
       "      <td>1</td>\n",
       "      <td>Risk 1 (High)</td>\n",
       "      <td>909 N MICHIGAN AVE</td>\n",
       "      <td>CHICAGO</td>\n",
       "      <td>IL</td>\n",
       "      <td>60611.0</td>\n",
       "      <td>2021</td>\n",
       "      <td>License</td>\n",
       "      <td>1</td>\n",
       "      <td>1</td>\n",
       "    </tr>\n",
       "    <tr>\n",
       "      <th>4</th>\n",
       "      <td>2545870</td>\n",
       "      <td>SUPER TAQUERIA EL TACONAZO EL TIO</td>\n",
       "      <td>SUPER TAQUERIA EL TACONAZO EL TIO</td>\n",
       "      <td>2458442.0</td>\n",
       "      <td>1</td>\n",
       "      <td>Risk 1 (High)</td>\n",
       "      <td>3529 W FULLERTON AVE</td>\n",
       "      <td>CHICAGO</td>\n",
       "      <td>IL</td>\n",
       "      <td>60647.0</td>\n",
       "      <td>2021</td>\n",
       "      <td>Complaint</td>\n",
       "      <td>1</td>\n",
       "      <td>1</td>\n",
       "    </tr>\n",
       "  </tbody>\n",
       "</table>\n",
       "</div>"
      ],
      "text/plain": [
       "   inspection_id                           dba_name  \\\n",
       "0        2545939                          MCDONALDS   \n",
       "1        2545928            TACONAZO EL ORIGINAL #1   \n",
       "2        2545896                    7-ELEVEN #24606   \n",
       "3        2545872        THE WESTIN MICHIGAN  AVENUE   \n",
       "4        2545870  SUPER TAQUERIA EL TACONAZO EL TIO   \n",
       "\n",
       "                            aka_name  license_#  facility_type  \\\n",
       "0                          MCDONALDS  2349545.0              1   \n",
       "1            TACONAZO EL ORIGINAL #1  2657927.0              1   \n",
       "2                    7-ELEVEN #24606    12892.0              0   \n",
       "3                          909 NORTH  2762706.0              1   \n",
       "4  SUPER TAQUERIA EL TACONAZO EL TIO  2458442.0              1   \n",
       "\n",
       "              risk                address     city state      zip  \\\n",
       "0  Risk 2 (Medium)   3241 W PETERSON AVE   CHICAGO    IL  60659.0   \n",
       "1    Risk 1 (High)      4124 W NORTH AVE   CHICAGO    IL  60639.0   \n",
       "2  Risk 2 (Medium)    2600 N LINCOLN AVE   CHICAGO    IL  60614.0   \n",
       "3    Risk 1 (High)    909 N MICHIGAN AVE   CHICAGO    IL  60611.0   \n",
       "4    Risk 1 (High)  3529 W FULLERTON AVE   CHICAGO    IL  60647.0   \n",
       "\n",
       "   inspection_date        inspection_type  results  risk_cat  \n",
       "0             2021  Canvass Re-Inspection        1         2  \n",
       "1             2021  Canvass Re-Inspection        1         1  \n",
       "2             2021                Canvass        0         2  \n",
       "3             2021                License        1         1  \n",
       "4             2021              Complaint        1         1  "
      ]
     },
     "execution_count": 31,
     "metadata": {},
     "output_type": "execute_result"
    }
   ],
   "source": [
    "df[\"risk_cat\"] = df[\"risk\"].cat.codes\n",
    "df.head()"
   ]
  },
  {
   "cell_type": "code",
   "execution_count": 32,
   "metadata": {},
   "outputs": [],
   "source": [
    "df['risk']= df['risk_cat']"
   ]
  },
  {
   "cell_type": "code",
   "execution_count": 33,
   "metadata": {},
   "outputs": [
    {
     "data": {
      "text/html": [
       "<div>\n",
       "<style scoped>\n",
       "    .dataframe tbody tr th:only-of-type {\n",
       "        vertical-align: middle;\n",
       "    }\n",
       "\n",
       "    .dataframe tbody tr th {\n",
       "        vertical-align: top;\n",
       "    }\n",
       "\n",
       "    .dataframe thead th {\n",
       "        text-align: right;\n",
       "    }\n",
       "</style>\n",
       "<table border=\"1\" class=\"dataframe\">\n",
       "  <thead>\n",
       "    <tr style=\"text-align: right;\">\n",
       "      <th></th>\n",
       "      <th>inspection_id</th>\n",
       "      <th>dba_name</th>\n",
       "      <th>aka_name</th>\n",
       "      <th>license_#</th>\n",
       "      <th>facility_type</th>\n",
       "      <th>risk</th>\n",
       "      <th>address</th>\n",
       "      <th>city</th>\n",
       "      <th>state</th>\n",
       "      <th>zip</th>\n",
       "      <th>inspection_date</th>\n",
       "      <th>inspection_type</th>\n",
       "      <th>results</th>\n",
       "      <th>risk_cat</th>\n",
       "    </tr>\n",
       "  </thead>\n",
       "  <tbody>\n",
       "    <tr>\n",
       "      <th>0</th>\n",
       "      <td>2545939</td>\n",
       "      <td>MCDONALDS</td>\n",
       "      <td>MCDONALDS</td>\n",
       "      <td>2349545.0</td>\n",
       "      <td>1</td>\n",
       "      <td>2</td>\n",
       "      <td>3241 W PETERSON AVE</td>\n",
       "      <td>CHICAGO</td>\n",
       "      <td>IL</td>\n",
       "      <td>60659.0</td>\n",
       "      <td>2021</td>\n",
       "      <td>Canvass Re-Inspection</td>\n",
       "      <td>1</td>\n",
       "      <td>2</td>\n",
       "    </tr>\n",
       "    <tr>\n",
       "      <th>1</th>\n",
       "      <td>2545928</td>\n",
       "      <td>TACONAZO EL ORIGINAL #1</td>\n",
       "      <td>TACONAZO EL ORIGINAL #1</td>\n",
       "      <td>2657927.0</td>\n",
       "      <td>1</td>\n",
       "      <td>1</td>\n",
       "      <td>4124 W NORTH AVE</td>\n",
       "      <td>CHICAGO</td>\n",
       "      <td>IL</td>\n",
       "      <td>60639.0</td>\n",
       "      <td>2021</td>\n",
       "      <td>Canvass Re-Inspection</td>\n",
       "      <td>1</td>\n",
       "      <td>1</td>\n",
       "    </tr>\n",
       "    <tr>\n",
       "      <th>2</th>\n",
       "      <td>2545896</td>\n",
       "      <td>7-ELEVEN #24606</td>\n",
       "      <td>7-ELEVEN #24606</td>\n",
       "      <td>12892.0</td>\n",
       "      <td>0</td>\n",
       "      <td>2</td>\n",
       "      <td>2600 N LINCOLN AVE</td>\n",
       "      <td>CHICAGO</td>\n",
       "      <td>IL</td>\n",
       "      <td>60614.0</td>\n",
       "      <td>2021</td>\n",
       "      <td>Canvass</td>\n",
       "      <td>0</td>\n",
       "      <td>2</td>\n",
       "    </tr>\n",
       "    <tr>\n",
       "      <th>3</th>\n",
       "      <td>2545872</td>\n",
       "      <td>THE WESTIN MICHIGAN  AVENUE</td>\n",
       "      <td>909 NORTH</td>\n",
       "      <td>2762706.0</td>\n",
       "      <td>1</td>\n",
       "      <td>1</td>\n",
       "      <td>909 N MICHIGAN AVE</td>\n",
       "      <td>CHICAGO</td>\n",
       "      <td>IL</td>\n",
       "      <td>60611.0</td>\n",
       "      <td>2021</td>\n",
       "      <td>License</td>\n",
       "      <td>1</td>\n",
       "      <td>1</td>\n",
       "    </tr>\n",
       "    <tr>\n",
       "      <th>4</th>\n",
       "      <td>2545870</td>\n",
       "      <td>SUPER TAQUERIA EL TACONAZO EL TIO</td>\n",
       "      <td>SUPER TAQUERIA EL TACONAZO EL TIO</td>\n",
       "      <td>2458442.0</td>\n",
       "      <td>1</td>\n",
       "      <td>1</td>\n",
       "      <td>3529 W FULLERTON AVE</td>\n",
       "      <td>CHICAGO</td>\n",
       "      <td>IL</td>\n",
       "      <td>60647.0</td>\n",
       "      <td>2021</td>\n",
       "      <td>Complaint</td>\n",
       "      <td>1</td>\n",
       "      <td>1</td>\n",
       "    </tr>\n",
       "  </tbody>\n",
       "</table>\n",
       "</div>"
      ],
      "text/plain": [
       "   inspection_id                           dba_name  \\\n",
       "0        2545939                          MCDONALDS   \n",
       "1        2545928            TACONAZO EL ORIGINAL #1   \n",
       "2        2545896                    7-ELEVEN #24606   \n",
       "3        2545872        THE WESTIN MICHIGAN  AVENUE   \n",
       "4        2545870  SUPER TAQUERIA EL TACONAZO EL TIO   \n",
       "\n",
       "                            aka_name  license_#  facility_type  risk  \\\n",
       "0                          MCDONALDS  2349545.0              1     2   \n",
       "1            TACONAZO EL ORIGINAL #1  2657927.0              1     1   \n",
       "2                    7-ELEVEN #24606    12892.0              0     2   \n",
       "3                          909 NORTH  2762706.0              1     1   \n",
       "4  SUPER TAQUERIA EL TACONAZO EL TIO  2458442.0              1     1   \n",
       "\n",
       "                 address     city state      zip  inspection_date  \\\n",
       "0   3241 W PETERSON AVE   CHICAGO    IL  60659.0             2021   \n",
       "1      4124 W NORTH AVE   CHICAGO    IL  60639.0             2021   \n",
       "2    2600 N LINCOLN AVE   CHICAGO    IL  60614.0             2021   \n",
       "3    909 N MICHIGAN AVE   CHICAGO    IL  60611.0             2021   \n",
       "4  3529 W FULLERTON AVE   CHICAGO    IL  60647.0             2021   \n",
       "\n",
       "         inspection_type  results  risk_cat  \n",
       "0  Canvass Re-Inspection        1         2  \n",
       "1  Canvass Re-Inspection        1         1  \n",
       "2                Canvass        0         2  \n",
       "3                License        1         1  \n",
       "4              Complaint        1         1  "
      ]
     },
     "execution_count": 33,
     "metadata": {},
     "output_type": "execute_result"
    }
   ],
   "source": [
    "df.head()"
   ]
  },
  {
   "cell_type": "code",
   "execution_count": 34,
   "metadata": {},
   "outputs": [
    {
     "data": {
      "text/plain": [
       "<AxesSubplot:xlabel='risk', ylabel='count'>"
      ]
     },
     "execution_count": 34,
     "metadata": {},
     "output_type": "execute_result"
    },
    {
     "data": {
      "image/png": "[encoded data removed]",
      "text/plain": [
       "<Figure size 432x288 with 1 Axes>"
      ]
     },
     "metadata": {
      "needs_background": "light"
     },
     "output_type": "display_data"
    }
   ],
   "source": [
    "# Number of food inspections by risk\n",
    "sns.countplot(x='risk',data = df, palette ='hls')"
   ]
  },
  {
   "cell_type": "code",
   "execution_count": 35,
   "metadata": {},
   "outputs": [
    {
     "data": {
      "text/plain": [
       "<AxesSubplot:>"
      ]
     },
     "execution_count": 35,
     "metadata": {},
     "output_type": "execute_result"
    },
    {
     "data": {
      "image/png": "[encoded data removed]",
      "text/plain": [
       "<Figure size 432x288 with 2 Axes>"
      ]
     },
     "metadata": {
      "needs_background": "light"
     },
     "output_type": "display_data"
    }
   ],
   "source": [
    "sns.heatmap(df.corr())"
   ]
  },
  {
   "cell_type": "code",
   "execution_count": 36,
   "metadata": {},
   "outputs": [
    {
     "data": {
      "text/html": [
       "<div>\n",
       "<style scoped>\n",
       "    .dataframe tbody tr th:only-of-type {\n",
       "        vertical-align: middle;\n",
       "    }\n",
       "\n",
       "    .dataframe tbody tr th {\n",
       "        vertical-align: top;\n",
       "    }\n",
       "\n",
       "    .dataframe thead th {\n",
       "        text-align: right;\n",
       "    }\n",
       "</style>\n",
       "<table border=\"1\" class=\"dataframe\">\n",
       "  <thead>\n",
       "    <tr style=\"text-align: right;\">\n",
       "      <th></th>\n",
       "      <th>inspection_id</th>\n",
       "      <th>dba_name</th>\n",
       "      <th>aka_name</th>\n",
       "      <th>license_#</th>\n",
       "      <th>facility_type</th>\n",
       "      <th>risk</th>\n",
       "      <th>address</th>\n",
       "      <th>city</th>\n",
       "      <th>state</th>\n",
       "      <th>zip</th>\n",
       "      <th>inspection_date</th>\n",
       "      <th>inspection_type</th>\n",
       "      <th>results</th>\n",
       "      <th>risk_cat</th>\n",
       "    </tr>\n",
       "  </thead>\n",
       "  <tbody>\n",
       "    <tr>\n",
       "      <th>0</th>\n",
       "      <td>2545939</td>\n",
       "      <td>MCDONALDS</td>\n",
       "      <td>MCDONALDS</td>\n",
       "      <td>2349545.0</td>\n",
       "      <td>1</td>\n",
       "      <td>2</td>\n",
       "      <td>3241 W PETERSON AVE</td>\n",
       "      <td>CHICAGO</td>\n",
       "      <td>IL</td>\n",
       "      <td>60659.0</td>\n",
       "      <td>2021</td>\n",
       "      <td>Canvass Re-Inspection</td>\n",
       "      <td>1</td>\n",
       "      <td>2</td>\n",
       "    </tr>\n",
       "    <tr>\n",
       "      <th>1</th>\n",
       "      <td>2545928</td>\n",
       "      <td>TACONAZO EL ORIGINAL #1</td>\n",
       "      <td>TACONAZO EL ORIGINAL #1</td>\n",
       "      <td>2657927.0</td>\n",
       "      <td>1</td>\n",
       "      <td>1</td>\n",
       "      <td>4124 W NORTH AVE</td>\n",
       "      <td>CHICAGO</td>\n",
       "      <td>IL</td>\n",
       "      <td>60639.0</td>\n",
       "      <td>2021</td>\n",
       "      <td>Canvass Re-Inspection</td>\n",
       "      <td>1</td>\n",
       "      <td>1</td>\n",
       "    </tr>\n",
       "    <tr>\n",
       "      <th>2</th>\n",
       "      <td>2545896</td>\n",
       "      <td>7-ELEVEN #24606</td>\n",
       "      <td>7-ELEVEN #24606</td>\n",
       "      <td>12892.0</td>\n",
       "      <td>0</td>\n",
       "      <td>2</td>\n",
       "      <td>2600 N LINCOLN AVE</td>\n",
       "      <td>CHICAGO</td>\n",
       "      <td>IL</td>\n",
       "      <td>60614.0</td>\n",
       "      <td>2021</td>\n",
       "      <td>Canvass</td>\n",
       "      <td>0</td>\n",
       "      <td>2</td>\n",
       "    </tr>\n",
       "    <tr>\n",
       "      <th>3</th>\n",
       "      <td>2545872</td>\n",
       "      <td>THE WESTIN MICHIGAN  AVENUE</td>\n",
       "      <td>909 NORTH</td>\n",
       "      <td>2762706.0</td>\n",
       "      <td>1</td>\n",
       "      <td>1</td>\n",
       "      <td>909 N MICHIGAN AVE</td>\n",
       "      <td>CHICAGO</td>\n",
       "      <td>IL</td>\n",
       "      <td>60611.0</td>\n",
       "      <td>2021</td>\n",
       "      <td>License</td>\n",
       "      <td>1</td>\n",
       "      <td>1</td>\n",
       "    </tr>\n",
       "    <tr>\n",
       "      <th>4</th>\n",
       "      <td>2545870</td>\n",
       "      <td>SUPER TAQUERIA EL TACONAZO EL TIO</td>\n",
       "      <td>SUPER TAQUERIA EL TACONAZO EL TIO</td>\n",
       "      <td>2458442.0</td>\n",
       "      <td>1</td>\n",
       "      <td>1</td>\n",
       "      <td>3529 W FULLERTON AVE</td>\n",
       "      <td>CHICAGO</td>\n",
       "      <td>IL</td>\n",
       "      <td>60647.0</td>\n",
       "      <td>2021</td>\n",
       "      <td>Complaint</td>\n",
       "      <td>1</td>\n",
       "      <td>1</td>\n",
       "    </tr>\n",
       "  </tbody>\n",
       "</table>\n",
       "</div>"
      ],
      "text/plain": [
       "   inspection_id                           dba_name  \\\n",
       "0        2545939                          MCDONALDS   \n",
       "1        2545928            TACONAZO EL ORIGINAL #1   \n",
       "2        2545896                    7-ELEVEN #24606   \n",
       "3        2545872        THE WESTIN MICHIGAN  AVENUE   \n",
       "4        2545870  SUPER TAQUERIA EL TACONAZO EL TIO   \n",
       "\n",
       "                            aka_name  license_#  facility_type  risk  \\\n",
       "0                          MCDONALDS  2349545.0              1     2   \n",
       "1            TACONAZO EL ORIGINAL #1  2657927.0              1     1   \n",
       "2                    7-ELEVEN #24606    12892.0              0     2   \n",
       "3                          909 NORTH  2762706.0              1     1   \n",
       "4  SUPER TAQUERIA EL TACONAZO EL TIO  2458442.0              1     1   \n",
       "\n",
       "                 address     city state      zip  inspection_date  \\\n",
       "0   3241 W PETERSON AVE   CHICAGO    IL  60659.0             2021   \n",
       "1      4124 W NORTH AVE   CHICAGO    IL  60639.0             2021   \n",
       "2    2600 N LINCOLN AVE   CHICAGO    IL  60614.0             2021   \n",
       "3    909 N MICHIGAN AVE   CHICAGO    IL  60611.0             2021   \n",
       "4  3529 W FULLERTON AVE   CHICAGO    IL  60647.0             2021   \n",
       "\n",
       "         inspection_type  results  risk_cat  \n",
       "0  Canvass Re-Inspection        1         2  \n",
       "1  Canvass Re-Inspection        1         1  \n",
       "2                Canvass        0         2  \n",
       "3                License        1         1  \n",
       "4              Complaint        1         1  "
      ]
     },
     "execution_count": 36,
     "metadata": {},
     "output_type": "execute_result"
    }
   ],
   "source": [
    "df.head()"
   ]
  },
  {
   "cell_type": "code",
   "execution_count": null,
   "metadata": {},
   "outputs": [],
   "source": []
  }
 ],
 "metadata": {
  "kernelspec": {
   "display_name": "Python 3",
   "language": "python",
   "name": "python3"
  },
  "language_info": {
   "codemirror_mode": {
    "name": "ipython",
    "version": 3
   },
   "file_extension": ".py",
   "mimetype": "text/x-python",
   "name": "python",
   "nbconvert_exporter": "python",
   "pygments_lexer": "ipython3",
   "version": "3.8.8"
  }
 },
 "nbformat": 4,
 "nbformat_minor": 4
}
