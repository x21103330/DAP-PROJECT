{
 "cells": [
  {
   "cell_type": "code",
   "execution_count": 20,
   "id": "296f2018",
   "metadata": {},
   "outputs": [
    {
     "name": "stdout",
     "output_type": "stream",
     "text": [
      "200\n"
     ]
    }
   ],
   "source": [
    "import requests\n",
    "import json\n",
    "import pandas as pd\n",
    "\n",
    "\n",
    "fdic_data = requests.get(\"https://banks.data.fdic.gov/api/summary?filters=YEAR%3A%5B%222000%22%20TO%20%222019%22%5D&fields=STNAME%2CYEAR%2CINTINC%2CEINTEXP%2CNIM%2CNONII%2CNONIX%2CELNATR%2CITAXR%2CIGLSEC%2CITAX%2CEXTRA%2CNETINC&sort_by=YEAR&sort_order=DESC&limit=3000&offset=0&format=json&download=false&filename=data_file\")\n",
    "print(x.status_code)\n",
    "\n",
    "data = fdic_data.json()\n",
    "with open ('data.json', 'w') as fd:\n",
    "    json.dump(data,fd)\n",
    "\n"
   ]
  },
  {
   "cell_type": "code",
   "execution_count": 26,
   "id": "1c96af46",
   "metadata": {},
   "outputs": [],
   "source": [
    "\n",
    "#!pip install pymongo\n",
    "from pymongo import MongoClient\n",
    "\n",
    "#Making Connection to MOngoDB\n",
    "client = MongoClient(\"mongodb://localhost:27017/\")\n",
    "\n",
    "#Database\n",
    "data_b = client[\"FDICDATABASE\"]\n",
    "\n",
    "#collection\n",
    "Collection = data_b[\"fdic\"]\n",
    "\n",
    "#loading the json file\n",
    "with open('data.json') as file:\n",
    "    file_data = json.load(file)\n",
    "\n",
    "#inserting the loaded file into the fdic collection\n",
    "if isinstance(file_data, list):\n",
    "    Collection.insert_many(file_data)\n",
    "else:\n",
    "    Collection.insert_one(file_data)\n",
    "    \n",
    "client.close()\n",
    "    \n"
   ]
  },
  {
   "cell_type": "code",
   "execution_count": null,
   "id": "f8d37375",
   "metadata": {},
   "outputs": [],
   "source": []
  }
 ],
 "metadata": {
  "kernelspec": {
   "display_name": "Python 3 (ipykernel)",
   "language": "python",
   "name": "python3"
  },
  "language_info": {
   "codemirror_mode": {
    "name": "ipython",
    "version": 3
   },
   "file_extension": ".py",
   "mimetype": "text/x-python",
   "name": "python",
   "nbconvert_exporter": "python",
   "pygments_lexer": "ipython3",
   "version": "3.8.11"
  }
 },
 "nbformat": 4,
 "nbformat_minor": 5
}
