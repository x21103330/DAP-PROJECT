{
 "cells": [
  {
   "cell_type": "code",
   "execution_count": 2,
   "id": "31113329",
   "metadata": {},
   "outputs": [],
   "source": [
    "import pandas as pd\n",
    "import pandas.io.sql as sqlio\n",
    "import numpy as np\n",
    "import pymongo\n",
    "import requests"
   ]
  },
  {
   "cell_type": "code",
   "execution_count": 3,
   "id": "c2833b7e",
   "metadata": {},
   "outputs": [],
   "source": [
    "res = requests.get(\"https://data.gov.ie/dataset/827b9a67-8a1c-481a-ab14-bf3ff70d645b/resource/11dc0e61-4bf9-4781-a6c4-cd9f725a5674/download/fishers_cattle.json\")"
   ]
  },
  {
   "cell_type": "code",
   "execution_count": 4,
   "id": "1bd38254",
   "metadata": {},
   "outputs": [],
   "source": [
    "myclient = pymongo.MongoClient(\"mongodb://localhost:27017/\")\n",
    "\n",
    "mydb = myclient[\"DAP_Akinwale\"]\n",
    "mycol = mydb[\"cattle\"]"
   ]
  },
  {
   "cell_type": "code",
   "execution_count": 5,
   "id": "cc4b1083",
   "metadata": {},
   "outputs": [],
   "source": [
    "many_ids = mycol.insert_many(res.json()).inserted_ids"
   ]
  },
  {
   "cell_type": "code",
   "execution_count": 6,
   "id": "48bdb71d",
   "metadata": {},
   "outputs": [],
   "source": [
    "dff=[]\n",
    "for i in mycol.find():\n",
    "    dff.append(i)\n",
    "    \n",
    "df = pd.DataFrame(dff)"
   ]
  },
  {
   "cell_type": "code",
   "execution_count": 7,
   "id": "007e98a5",
   "metadata": {},
   "outputs": [
    {
     "data": {
      "text/html": [
       "<div>\n",
       "<style scoped>\n",
       "    .dataframe tbody tr th:only-of-type {\n",
       "        vertical-align: middle;\n",
       "    }\n",
       "\n",
       "    .dataframe tbody tr th {\n",
       "        vertical-align: top;\n",
       "    }\n",
       "\n",
       "    .dataframe thead th {\n",
       "        text-align: right;\n",
       "    }\n",
       "</style>\n",
       "<table border=\"1\" class=\"dataframe\">\n",
       "  <thead>\n",
       "    <tr style=\"text-align: right;\">\n",
       "      <th></th>\n",
       "      <th>_id</th>\n",
       "      <th>YEAR</th>\n",
       "      <th>LOCATION</th>\n",
       "      <th>CATTLE_BREED_TYPE</th>\n",
       "      <th>CATTLE_GENDER</th>\n",
       "      <th>CATTLE_AGE_0_6</th>\n",
       "      <th>CATTLE_AGE_6_6</th>\n",
       "      <th>CATTLE_AGE_6_12</th>\n",
       "      <th>CATTLE_AGE_12_18</th>\n",
       "      <th>CATTLE_AGE_18_24</th>\n",
       "      <th>CATTLE_AGE_24_30</th>\n",
       "      <th>CATTLE_AGE_30_36</th>\n",
       "      <th>CATTLE_AGE_36_PLUS</th>\n",
       "    </tr>\n",
       "  </thead>\n",
       "  <tbody>\n",
       "    <tr>\n",
       "      <th>0</th>\n",
       "      <td>61cc73318344f513d0d8f017</td>\n",
       "      <td>2014</td>\n",
       "      <td>Boyne</td>\n",
       "      <td>BEEF</td>\n",
       "      <td>C</td>\n",
       "      <td>0</td>\n",
       "      <td>0</td>\n",
       "      <td>0</td>\n",
       "      <td>3</td>\n",
       "      <td>199</td>\n",
       "      <td>504</td>\n",
       "      <td>3929</td>\n",
       "      <td>57144</td>\n",
       "    </tr>\n",
       "    <tr>\n",
       "      <th>1</th>\n",
       "      <td>61cc73318344f513d0d8f018</td>\n",
       "      <td>2020</td>\n",
       "      <td>Doonbeg</td>\n",
       "      <td>BEEF</td>\n",
       "      <td>C</td>\n",
       "      <td>0</td>\n",
       "      <td>0</td>\n",
       "      <td>0</td>\n",
       "      <td>0</td>\n",
       "      <td>11</td>\n",
       "      <td>41</td>\n",
       "      <td>312</td>\n",
       "      <td>5863</td>\n",
       "    </tr>\n",
       "    <tr>\n",
       "      <th>2</th>\n",
       "      <td>61cc73318344f513d0d8f019</td>\n",
       "      <td>2019</td>\n",
       "      <td>Ilen</td>\n",
       "      <td>BEEF</td>\n",
       "      <td>C</td>\n",
       "      <td>0</td>\n",
       "      <td>0</td>\n",
       "      <td>0</td>\n",
       "      <td>0</td>\n",
       "      <td>12</td>\n",
       "      <td>78</td>\n",
       "      <td>473</td>\n",
       "      <td>6794</td>\n",
       "    </tr>\n",
       "    <tr>\n",
       "      <th>3</th>\n",
       "      <td>61cc73318344f513d0d8f01a</td>\n",
       "      <td>2019</td>\n",
       "      <td>Boyne</td>\n",
       "      <td>BEEF</td>\n",
       "      <td>F</td>\n",
       "      <td>1477</td>\n",
       "      <td>7816</td>\n",
       "      <td>33166</td>\n",
       "      <td>9312</td>\n",
       "      <td>35995</td>\n",
       "      <td>7049</td>\n",
       "      <td>7915</td>\n",
       "      <td>1680</td>\n",
       "    </tr>\n",
       "    <tr>\n",
       "      <th>4</th>\n",
       "      <td>61cc73318344f513d0d8f01b</td>\n",
       "      <td>2014</td>\n",
       "      <td>Boyne</td>\n",
       "      <td>BEEF</td>\n",
       "      <td>F</td>\n",
       "      <td>1490</td>\n",
       "      <td>8008</td>\n",
       "      <td>33775</td>\n",
       "      <td>9525</td>\n",
       "      <td>36253</td>\n",
       "      <td>7203</td>\n",
       "      <td>8138</td>\n",
       "      <td>1764</td>\n",
       "    </tr>\n",
       "  </tbody>\n",
       "</table>\n",
       "</div>"
      ],
      "text/plain": [
       "                        _id  YEAR LOCATION CATTLE_BREED_TYPE CATTLE_GENDER  \\\n",
       "0  61cc73318344f513d0d8f017  2014    Boyne              BEEF             C   \n",
       "1  61cc73318344f513d0d8f018  2020  Doonbeg              BEEF             C   \n",
       "2  61cc73318344f513d0d8f019  2019     Ilen              BEEF             C   \n",
       "3  61cc73318344f513d0d8f01a  2019    Boyne              BEEF             F   \n",
       "4  61cc73318344f513d0d8f01b  2014    Boyne              BEEF             F   \n",
       "\n",
       "   CATTLE_AGE_0_6  CATTLE_AGE_6_6  CATTLE_AGE_6_12  CATTLE_AGE_12_18  \\\n",
       "0               0               0                0                 3   \n",
       "1               0               0                0                 0   \n",
       "2               0               0                0                 0   \n",
       "3            1477            7816            33166              9312   \n",
       "4            1490            8008            33775              9525   \n",
       "\n",
       "   CATTLE_AGE_18_24  CATTLE_AGE_24_30  CATTLE_AGE_30_36  CATTLE_AGE_36_PLUS  \n",
       "0               199               504              3929               57144  \n",
       "1                11                41               312                5863  \n",
       "2                12                78               473                6794  \n",
       "3             35995              7049              7915                1680  \n",
       "4             36253              7203              8138                1764  "
      ]
     },
     "execution_count": 7,
     "metadata": {},
     "output_type": "execute_result"
    }
   ],
   "source": [
    "df.head()"
   ]
  },
  {
   "cell_type": "code",
   "execution_count": 9,
   "id": "51507120",
   "metadata": {},
   "outputs": [
    {
     "name": "stdout",
     "output_type": "stream",
     "text": [
      "45539\n"
     ]
    }
   ],
   "source": [
    "# Getting the total number of cells in the data\n",
    "no_of_cells = np.product(df.shape)\n",
    "print(no_of_cells)"
   ]
  },
  {
   "cell_type": "code",
   "execution_count": 11,
   "id": "3b377a58",
   "metadata": {},
   "outputs": [
    {
     "name": "stdout",
     "output_type": "stream",
     "text": [
      "_id                   0\n",
      "YEAR                  0\n",
      "LOCATION              0\n",
      "CATTLE_BREED_TYPE     0\n",
      "CATTLE_GENDER         0\n",
      "CATTLE_AGE_0_6        0\n",
      "CATTLE_AGE_6_6        0\n",
      "CATTLE_AGE_6_12       0\n",
      "CATTLE_AGE_12_18      0\n",
      "CATTLE_AGE_18_24      0\n",
      "CATTLE_AGE_24_30      0\n",
      "CATTLE_AGE_30_36      0\n",
      "CATTLE_AGE_36_PLUS    0\n",
      "dtype: int64\n"
     ]
    }
   ],
   "source": [
    "# Getting the number of missing values per column\n",
    "Null_values = df.isnull().sum()\n",
    "print(Null_values)"
   ]
  },
  {
   "cell_type": "code",
   "execution_count": 12,
   "id": "731bd70a",
   "metadata": {},
   "outputs": [
    {
     "name": "stdout",
     "output_type": "stream",
     "text": [
      "<class 'pandas.core.frame.DataFrame'>\n",
      "RangeIndex: 3503 entries, 0 to 3502\n",
      "Data columns (total 13 columns):\n",
      " #   Column              Non-Null Count  Dtype \n",
      "---  ------              --------------  ----- \n",
      " 0   _id                 3503 non-null   object\n",
      " 1   YEAR                3503 non-null   int64 \n",
      " 2   LOCATION            3503 non-null   object\n",
      " 3   CATTLE_BREED_TYPE   3503 non-null   object\n",
      " 4   CATTLE_GENDER       3503 non-null   object\n",
      " 5   CATTLE_AGE_0_6      3503 non-null   int64 \n",
      " 6   CATTLE_AGE_6_6      3503 non-null   int64 \n",
      " 7   CATTLE_AGE_6_12     3503 non-null   int64 \n",
      " 8   CATTLE_AGE_12_18    3503 non-null   int64 \n",
      " 9   CATTLE_AGE_18_24    3503 non-null   int64 \n",
      " 10  CATTLE_AGE_24_30    3503 non-null   int64 \n",
      " 11  CATTLE_AGE_30_36    3503 non-null   int64 \n",
      " 12  CATTLE_AGE_36_PLUS  3503 non-null   int64 \n",
      "dtypes: int64(9), object(4)\n",
      "memory usage: 355.9+ KB\n"
     ]
    }
   ],
   "source": [
    "df.info()"
   ]
  },
  {
   "cell_type": "code",
   "execution_count": 13,
   "id": "0b7464e3",
   "metadata": {},
   "outputs": [
    {
     "data": {
      "text/plain": [
       "_id                   object\n",
       "YEAR                   int64\n",
       "LOCATION              object\n",
       "CATTLE_BREED_TYPE     object\n",
       "CATTLE_GENDER         object\n",
       "CATTLE_AGE_0_6         int64\n",
       "CATTLE_AGE_6_6         int64\n",
       "CATTLE_AGE_6_12        int64\n",
       "CATTLE_AGE_12_18       int64\n",
       "CATTLE_AGE_18_24       int64\n",
       "CATTLE_AGE_24_30       int64\n",
       "CATTLE_AGE_30_36       int64\n",
       "CATTLE_AGE_36_PLUS     int64\n",
       "dtype: object"
      ]
     },
     "execution_count": 13,
     "metadata": {},
     "output_type": "execute_result"
    }
   ],
   "source": [
    "df.dtypes"
   ]
  },
  {
   "cell_type": "code",
   "execution_count": 15,
   "id": "f4d62c10",
   "metadata": {},
   "outputs": [],
   "source": [
    "from matplotlib import pyplot as plt\n",
    "from matplotlib.gridspec import GridSpec\n",
    "import plotly.graph_objects as go\n",
    "import seaborn as sns"
   ]
  },
  {
   "cell_type": "code",
   "execution_count": 23,
   "id": "63bd03cd",
   "metadata": {},
   "outputs": [
    {
     "data": {
      "text/plain": [
       "<seaborn.axisgrid.FacetGrid at 0x26d68c1eb20>"
      ]
     },
     "execution_count": 23,
     "metadata": {},
     "output_type": "execute_result"
    },
    {
     "data": {
      "image/png": "[encoded data removed]",
      "text/plain": [
       "<Figure size 360x360 with 1 Axes>"
      ]
     },
     "metadata": {
      "needs_background": "light"
     },
     "output_type": "display_data"
    }
   ],
   "source": [
    "# Making a distribution of cattles aged between 0 to 6 weeks. \n",
    "sns.displot(df['CATTLE_AGE_0_6'],bins=30,kde=False,color='blue')"
   ]
  },
  {
   "cell_type": "code",
   "execution_count": 24,
   "id": "c866e65b",
   "metadata": {},
   "outputs": [
    {
     "data": {
      "text/plain": [
       "<AxesSubplot:xlabel='CATTLE_GENDER', ylabel='count'>"
      ]
     },
     "execution_count": 24,
     "metadata": {},
     "output_type": "execute_result"
    },
    {
     "data": {
      "image/png": "[encoded data removed]",
      "text/plain": [
       "<Figure size 432x288 with 1 Axes>"
      ]
     },
     "metadata": {
      "needs_background": "light"
     },
     "output_type": "display_data"
    }
   ],
   "source": [
    "# Showing how the cattle gender is distributed. \n",
    "sns.countplot(x='CATTLE_GENDER',data=df)"
   ]
  },
  {
   "cell_type": "code",
   "execution_count": null,
   "id": "62ce70df",
   "metadata": {},
   "outputs": [],
   "source": []
  },
  {
   "cell_type": "code",
   "execution_count": 26,
   "id": "8ac899e5",
   "metadata": {},
   "outputs": [
    {
     "name": "stdout",
     "output_type": "stream",
     "text": [
      "Collecting psycopg2\n",
      "  Downloading psycopg2-2.9.3-cp38-cp38-win_amd64.whl (1.1 MB)\n",
      "Installing collected packages: psycopg2\n",
      "Successfully installed psycopg2-2.9.3\n"
     ]
    }
   ],
   "source": [
    "!pip install psycopg2\n",
    "import psycopg2"
   ]
  },
  {
   "cell_type": "code",
   "execution_count": null,
   "id": "f5c41862",
   "metadata": {},
   "outputs": [],
   "source": [
    "import psycopg2\n",
    "try:\n",
    "    dbConnection = psycopg2.connect(\n",
    "        user = \"dap\",\n",
    "        password = \"#Walesunday2021\",\n",
    "        host = \"localhost\",\n",
    "        port = \"5432\",\n",
    "        database = \"postgres\")\n",
    "    dbConnection.set_isolation_level(0) # AUTOCOMMIT\n",
    "    dbCursor = dbConnection.cursor()\n",
    "    dbCursor.execute('CREATE DATABASE weather;')\n",
    "    dbCursor.close()\n",
    "except (Exception , psycopg2.Error) as dbError :\n",
    "    print (\"Error while connecting to PostgreSQL\", dbError)\n",
    "finally:\n",
    "    if dbConnection in locals(): \n",
    "        dbConnection.close()"
   ]
  },
  {
   "cell_type": "code",
   "execution_count": null,
   "id": "cb9a003e",
   "metadata": {},
   "outputs": [],
   "source": []
  }
 ],
 "metadata": {
  "kernelspec": {
   "display_name": "Python 3",
   "language": "python",
   "name": "python3"
  },
  "language_info": {
   "codemirror_mode": {
    "name": "ipython",
    "version": 3
   },
   "file_extension": ".py",
   "mimetype": "text/x-python",
   "name": "python",
   "nbconvert_exporter": "python",
   "pygments_lexer": "ipython3",
   "version": "3.8.8"
  }
 },
 "nbformat": 4,
 "nbformat_minor": 5
}
